{
 "cells": [
  {
   "cell_type": "markdown",
   "metadata": {},
   "source": [
    "# Jupyter Notebook Basics\n",
    "\n",
    "This is a Jupyter notebook. The Jupyter Notebook is an open-source web application that allows you to create and share documents that contain live code, equations, visualizations and explanatory text. It is a very productive environment, and a typical data scientist will spend much of their time working in notebooks. "
   ]
  },
  {
   "cell_type": "markdown",
   "metadata": {},
   "source": [
    "## Notebooks have two different keyboard input modes:\n",
    "1. <b>Edit mode</b> allows you to type code/text into a cell and is indicated by a blue cell border and a prompt showing in the editor area. When a cell is in edit mode, you can type into the cell, like a normal text editor. When in edit mode, the Cell Mode Indicator will change to reflect the cell’s state. This state is indicated by a small pencil icon on the top right of the interface.\n",
    "2. <b>Command mode</b> binds the keyboard to notebook level actions and is indicated by a grey cell border. When you are in command mode, you are able to edit the notebook as a whole, but not type into individual cells. Most importantly, in command mode, the keyboard is mapped to a set of shortcuts that let you perform notebook and cell actions efficiently. For example, if you are in command mode and you press c, you will copy the current cell - no modifier is needed. In command mode, the entire keyboard is available for shortcuts.\n",
    "<br>\n",
    "\n",
    "Change from <b>edit</b> to <b>command mode</b> by pressing `esc` or using the mouse to click outside a cell’s editor area. And change back from <b>command</b> to <b>edit mode</b> by hitting `enter` or using the mouse to click on a cell’s editor area."
   ]
  },
  {
   "cell_type": "markdown",
   "metadata": {},
   "source": [
    "## Types of cells\n",
    "The notebook consists of a sequence of cells. A cell is a multiline text input field, and its contents can be executed by using `Shift-Enter`, or by clicking either the “Play” button the toolbar, or Cell, Run in the menu bar. The execution behaviour of a cell is determined by the cell’s type. There are three types of cells: <b>code cells</b>, <b>markdown cells</b>, and <b>raw cells</b>. You can document the computational process in a literate way, alternating descriptive text with code, using rich text."
   ]
  },
  {
   "cell_type": "markdown",
   "metadata": {},
   "source": [
    "This is a <b>Markdown cell</b>."
   ]
  },
  {
   "cell_type": "code",
   "execution_count": null,
   "metadata": {},
   "outputs": [],
   "source": [
    "print(\n",
    "    \"This is a code cell.\\\n",
    " The programming language you use depends on the kernel \\\n",
    " and the default kernel (IPython) runs Python code.\\\n",
    " When a code cell is executed, code that it contains is sent \\\n",
    " to the kernel associated with the notebook. \\\n",
    " The results that are returned from this computation are \\\n",
    " then displayed  in the notebook as the cell’s output.\"\n",
    ")"
   ]
  },
  {
   "cell_type": "raw",
   "metadata": {},
   "source": [
    "Raw cells is unformatted text that is included, without modification, when notebooks are converted to different formats using nbconvert. Raw cells are not evaluated by the notebook."
   ]
  },
  {
   "cell_type": "markdown",
   "metadata": {},
   "source": [
    "# Change, add and delete cells in command mode\n",
    "- Change cell type from code to markdown by pressing `m`. Change it back to code with `y`. Or use the drop down menu. \n",
    "- Add a cell above with `a` and below with `b`\n",
    "- Delete a cell with `dd`\n",
    "\n",
    "Type `h` for more keyboard shortcuts. "
   ]
  },
  {
   "cell_type": "markdown",
   "metadata": {},
   "source": [
    "#### Running commands"
   ]
  },
  {
   "cell_type": "markdown",
   "metadata": {},
   "source": [
    "To run a command, click in the cell and click the play button above or:\n",
    "\n",
    "- `ctrl`+`enter`  \n",
    "- `shift`+`enter`: automatically places your cursor in the next cell down\n",
    "- `alt`+`enter`: also adds a new cell below "
   ]
  },
  {
   "cell_type": "code",
   "execution_count": null,
   "metadata": {},
   "outputs": [],
   "source": [
    "# Shorthand for `print(1+2)`, can only be used once per cell to avoid ambiguity.\n",
    "1 + 2"
   ]
  },
  {
   "cell_type": "markdown",
   "metadata": {},
   "source": [
    "You can also interact directly with your operating system. <b>Bash commands</b> start with a '!' "
   ]
  },
  {
   "cell_type": "code",
   "execution_count": null,
   "metadata": {},
   "outputs": [],
   "source": [
    "!ls"
   ]
  },
  {
   "cell_type": "code",
   "execution_count": null,
   "metadata": {},
   "outputs": [],
   "source": [
    "!pip install tqdm"
   ]
  },
  {
   "cell_type": "markdown",
   "metadata": {},
   "source": [
    "<b>'Magic' commands</b> are prefixed with a '%' and provide some extremely convient functionality. <b>Line magics</b>  are prefixed with a single '%' character and work much like OS command-line calls: they get as an argument the rest of the line, where arguments are passed without parentheses or quotes. <b>Cell magics</b> are prefixed with a double '%%', and they are functions that get as an argument not only the rest of the line, but also the lines below it in a separate argument.  "
   ]
  },
  {
   "cell_type": "code",
   "execution_count": null,
   "metadata": {},
   "outputs": [],
   "source": [
    "%timeit range(1000)"
   ]
  },
  {
   "cell_type": "code",
   "execution_count": null,
   "metadata": {},
   "outputs": [],
   "source": [
    "%%timeit\n",
    "for i in range(20):\n",
    "    j = 7"
   ]
  },
  {
   "cell_type": "markdown",
   "metadata": {},
   "source": [
    "Check out the [documentation](https://ipython.org/ipython-doc/3/interactive/tutorial.html) for more useful commands. "
   ]
  },
  {
   "cell_type": "markdown",
   "metadata": {},
   "source": [
    "Note a `timeit` cell does not assign values to variables or provide an output"
   ]
  },
  {
   "cell_type": "code",
   "execution_count": null,
   "metadata": {},
   "outputs": [],
   "source": [
    "j"
   ]
  },
  {
   "cell_type": "markdown",
   "metadata": {},
   "source": [
    "However `%time` runs one iteration and the cell optputs as normal"
   ]
  },
  {
   "cell_type": "code",
   "execution_count": null,
   "metadata": {},
   "outputs": [],
   "source": [
    "%time\n",
    "for i in range(20):\n",
    "    j = 7"
   ]
  },
  {
   "cell_type": "code",
   "execution_count": null,
   "metadata": {},
   "outputs": [],
   "source": [
    "j"
   ]
  },
  {
   "cell_type": "markdown",
   "metadata": {},
   "source": [
    "# References: \n",
    "- https://jupyter-notebook.readthedocs.io/en/stable/examples/Notebook/Notebook%20Basics.html\n",
    "- https://jupyter-notebook.readthedocs.io/en/stable/index.html"
   ]
  }
 ],
 "metadata": {
  "kernelspec": {
   "display_name": "Python [default]",
   "language": "python",
   "name": "python3"
  },
  "language_info": {
   "codemirror_mode": {
    "name": "ipython",
    "version": 3
   },
   "file_extension": ".py",
   "mimetype": "text/x-python",
   "name": "python",
   "nbconvert_exporter": "python",
   "pygments_lexer": "ipython3",
   "version": "3.6.10"
  }
 },
 "nbformat": 4,
 "nbformat_minor": 2
}
