{
 "cells": [
  {
   "cell_type": "markdown",
   "metadata": {},
   "source": [
    "# Sklearn"
   ]
  },
  {
   "cell_type": "code",
   "execution_count": null,
   "metadata": {},
   "outputs": [],
   "source": [
    "import pandas as pd\n",
    "import numpy as np\n",
    "import matplotlib.pyplot as plt\n",
    "\n",
    "# have plots render in notebook\n",
    "%matplotlib inline"
   ]
  },
  {
   "cell_type": "markdown",
   "metadata": {},
   "source": [
    "Scikit-learn, or sklearn, is one of the most commonly used python packages for machine learning. It contains many different models that you can use to solve lots of different problems, and is usually a good place to get started."
   ]
  },
  {
   "cell_type": "markdown",
   "metadata": {},
   "source": [
    "First, let's load in the house data we used in the pandas exercise."
   ]
  },
  {
   "cell_type": "code",
   "execution_count": null,
   "metadata": {},
   "outputs": [],
   "source": [
    "df = pd.read_csv(\"kc-house-data.csv\")"
   ]
  },
  {
   "cell_type": "code",
   "execution_count": null,
   "metadata": {},
   "outputs": [],
   "source": [
    "df.head()"
   ]
  },
  {
   "cell_type": "markdown",
   "metadata": {},
   "source": [
    "The id and date will be used as the index, so let's set them."
   ]
  },
  {
   "cell_type": "markdown",
   "metadata": {},
   "source": [
    "#### Task: Convert the `date` column to a datetime type."
   ]
  },
  {
   "cell_type": "code",
   "execution_count": null,
   "metadata": {},
   "outputs": [],
   "source": [
    "# your code goes here"
   ]
  },
  {
   "cell_type": "markdown",
   "metadata": {},
   "source": [
    "#### Task: Now set a multi-index using first the `id` column and then the `date` column."
   ]
  },
  {
   "cell_type": "code",
   "execution_count": null,
   "metadata": {},
   "outputs": [],
   "source": [
    "# your code goes here"
   ]
  },
  {
   "cell_type": "markdown",
   "metadata": {},
   "source": [
    "We are going to try and predict the price of a house given the many other features in the data. To do this we will use perhaps the most simple machine learning model; Linear Regression."
   ]
  },
  {
   "cell_type": "markdown",
   "metadata": {},
   "source": [
    "Linear regression assumes that the relationship between the features and the target is linear, i.e. for a target $ y $ and features $x_j$ one has that\n",
    "$$ y = \\beta_0 + \\sum_{j=1}^k \\beta_j x_j + \\epsilon $$ where\n",
    "- k is the number of features\n",
    "- each $\\epsilon$ is normally distrbuted of mean zero, and is independent of $y$ and $x_j$ with a fixed variance\n",
    "\n",
    "The term simple linear regression is often used to refer to the case when $k=1$.\n",
    "\n",
    "In the above the prediction is\n",
    "$$ \\beta_0 + \\sum_{j=1}^k \\beta_j x_j $$\n",
    "and the $\\epsilon$ is the difference between the prediction and the true value $y$. Machine learning will always look to minimise some loss function, and in this case the loss function is the sum of the squared errors.\n",
    "\n",
    "Let's set up our data for prediction."
   ]
  },
  {
   "cell_type": "code",
   "execution_count": null,
   "metadata": {},
   "outputs": [],
   "source": [
    "target = df[\"price\"]\n",
    "features = df.drop(\"price\", axis=1)"
   ]
  },
  {
   "cell_type": "markdown",
   "metadata": {},
   "source": [
    "Below we import the linear regression class from sklearn. We have not come across classes directly yet in python but most machine learning libraries will use them to store models."
   ]
  },
  {
   "cell_type": "code",
   "execution_count": null,
   "metadata": {},
   "outputs": [],
   "source": [
    "from sklearn.linear_model import LinearRegression"
   ]
  },
  {
   "cell_type": "code",
   "execution_count": null,
   "metadata": {},
   "outputs": [],
   "source": [
    "simple_model = LinearRegression()"
   ]
  },
  {
   "cell_type": "markdown",
   "metadata": {},
   "source": [
    "The above line of code has created a linear regression model, but currently it has not been fit to any data. We do this using one of the many class methods, namely `fit`. Note a class method is essentially just a function that is attached to the class. It has access to any data that may be attached to the class.\n",
    "\n",
    "We'll first fit a model with just the sqft living space as a feature."
   ]
  },
  {
   "cell_type": "code",
   "execution_count": null,
   "metadata": {},
   "outputs": [],
   "source": [
    "# note for the first argument we past a list to the dataframe, with just one column as an entry\n",
    "# this is because the first argument needs to be 2-dimensional, and passing just the string\n",
    "# would create a 1-dimensional pandas series\n",
    "simple_model.fit(features[[\"sqft_living\"]], target)"
   ]
  },
  {
   "cell_type": "markdown",
   "metadata": {},
   "source": [
    "We've now fitted our model, but what coefficients do we get out? And how can we find out how good the model is? The coefficients can be accessed as attributes of the class."
   ]
  },
  {
   "cell_type": "code",
   "execution_count": null,
   "metadata": {},
   "outputs": [],
   "source": [
    "beta0 = simple_model.intercept_  # this is the intercept of the line\n",
    "beta1 = simple_model.coef_[\n",
    "    0\n",
    "]  # this is a list of the feature coefficients, in this case of length 1"
   ]
  },
  {
   "cell_type": "markdown",
   "metadata": {},
   "source": [
    "Let's use these coefficients to make predictions!\n",
    "\n",
    "#### Task: Write a function that takes a feature value, or a numpy array of feature values, and returns the prediction(s)."
   ]
  },
  {
   "cell_type": "code",
   "execution_count": null,
   "metadata": {},
   "outputs": [],
   "source": [
    "def get_prediction(x):\n",
    "    \"\"\"\n",
    "    x: float, np.array\n",
    "        The feature value, or an array of feature values\n",
    "    \"\"\"\n",
    "    # your code here"
   ]
  },
  {
   "cell_type": "markdown",
   "metadata": {},
   "source": [
    "The `LinearRegression` class unsurpirsingly can do this automatically, using the `predict` method. It also has a `score` method which can be used to evaluate the model. Let's try it out now."
   ]
  },
  {
   "cell_type": "code",
   "execution_count": null,
   "metadata": {},
   "outputs": [],
   "source": [
    "simple_model.score(features[[\"sqft_living\"]], target)"
   ]
  },
  {
   "cell_type": "markdown",
   "metadata": {},
   "source": [
    "The metric this has outputted is called $R^2$ which you may have come across before. It is related to the sum of the squared errors by the following formula:\n",
    "$$ R^2 = 1 - \\frac{\\sum_{i=1}^n \\epsilon_i^2}{\\sum_{i=1}^n (y_i - \\bar{y})^2} $$ where\n",
    "- $y_i$ refers to the $i$-th of $n$ datapoints\n",
    "- $\\epsilon_i$ refers to the $i$-th error\n",
    "- $\\bar{y}$ is the mean of the $\\{y_i\\}_{i=1}^n$"
   ]
  },
  {
   "cell_type": "markdown",
   "metadata": {},
   "source": [
    "#### Task: Verify that the score outputed by the above method is the same as from the formula on the right hand side."
   ]
  },
  {
   "cell_type": "code",
   "execution_count": null,
   "metadata": {},
   "outputs": [],
   "source": [
    "# your code here"
   ]
  },
  {
   "cell_type": "markdown",
   "metadata": {},
   "source": [
    "How good is this value for $R^2$? The answer depends very much on the problem; for some problems an $R^2$ of 0.5 is fairly bad, whereas for others it could be world class. The only thing we can say for sure is that as our $R^2$ gets closer to 1.0 our predictions are getting better.\n",
    "\n",
    "Since we've only used one feature we can easily plot the feature against the target along with a line of best fit. To do this we'll use matplotlib, one of the most popular plotting libraries in python. Matplotlib actually has two apis to interface with it, and you can switch between them whilst writing the same piece of code. We focus on just one of them below."
   ]
  },
  {
   "cell_type": "code",
   "execution_count": null,
   "metadata": {},
   "outputs": [],
   "source": [
    "# this creates a square graph, size 10 by 10\n",
    "plt.figure(figsize=(10, 10))\n",
    "# a scatter plot with sqft_living on the x-axis and price on the y-axis\n",
    "plt.scatter(features[\"sqft_living\"], target)\n",
    "# a line connecting two points, arguments in the form (x1, x2), (y1, y2)\n",
    "plt.plot((0, 14000), (get_prediction(0), get_prediction(14000)), color=\"k\")\n",
    "# the next two lines add labels to the two axes\n",
    "plt.xlabel(\"SQFT Living Space\")\n",
    "plt.ylabel(\"House Price\")\n",
    "# finally we plot the graph\n",
    "plt.show()"
   ]
  },
  {
   "cell_type": "markdown",
   "metadata": {},
   "source": [
    "We'll get lots more practice with matplotlib throughout this training. Let's put what we've learned above into an exercise.\n",
    "\n",
    "#### Task: write a function that takes a feature name as input and produces a graph like the above:\n",
    "- the feature on the x-axis, the price on the y-axis\n",
    "- a line of best fit through the points\n",
    "- print out the $R^2$ as well to 3 d.p. (use the inbuilt function `round`)"
   ]
  },
  {
   "cell_type": "code",
   "execution_count": null,
   "metadata": {},
   "outputs": [],
   "source": [
    "def plot_feature(feature_name):\n",
    "    \"\"\"\n",
    "    feature_name: str\n",
    "        a column in the `features` dataframe\n",
    "    \"\"\"\n",
    "    # your code here"
   ]
  },
  {
   "cell_type": "markdown",
   "metadata": {},
   "source": [
    "Of course we don't have to just use one feature, we can use as many as we want. Let's try using all of them.\n",
    "\n",
    "#### Task: Fit a linear model with all the features included and calculate the $R^2$"
   ]
  },
  {
   "cell_type": "code",
   "execution_count": null,
   "metadata": {},
   "outputs": [],
   "source": [
    "# your code here"
   ]
  },
  {
   "cell_type": "markdown",
   "metadata": {},
   "source": [
    "Let's try and re-write our `get_prediction` function from above using this new model, or course the `predict` method still  exists but this  way we can practice our numpy.\n",
    "\n",
    "#### Task: Write a function that takes an numpy array of feature values and returns the predictions."
   ]
  },
  {
   "cell_type": "code",
   "execution_count": null,
   "metadata": {},
   "outputs": [],
   "source": [
    "def get_prediction(array):\n",
    "    \"\"\"\n",
    "    array: np.array\n",
    "        an array of feature values, in the correct column order\n",
    "    \"\"\"\n",
    "    # your code here"
   ]
  },
  {
   "cell_type": "markdown",
   "metadata": {},
   "source": [
    "The $R^2$ has improved quite a bit, but as we've included a lot more features we should check that the model has not become overfit. We use a function called `train_test_split` which is in sklearn. "
   ]
  },
  {
   "cell_type": "code",
   "execution_count": null,
   "metadata": {},
   "outputs": [],
   "source": [
    "from sklearn.model_selection import train_test_split"
   ]
  },
  {
   "cell_type": "markdown",
   "metadata": {},
   "source": [
    "Let's see what arguments it takes:"
   ]
  },
  {
   "cell_type": "code",
   "execution_count": null,
   "metadata": {},
   "outputs": [],
   "source": [
    "train_test_split?"
   ]
  },
  {
   "cell_type": "markdown",
   "metadata": {},
   "source": [
    "In order to use train_test_split we'll pass it a sequence of arrays, and then specify the test size parameter."
   ]
  },
  {
   "cell_type": "code",
   "execution_count": null,
   "metadata": {},
   "outputs": [],
   "source": [
    "X_train, X_test, y_train, y_test = train_test_split(\n",
    "    features, target, test_size=0.2\n",
    ")"
   ]
  },
  {
   "cell_type": "markdown",
   "metadata": {},
   "source": [
    "Having split the data into a training and test set we can now see how well our model performs on unseen data.\n",
    "\n",
    "#### Task: fit a linear model on the training data, and compare it's $R^2$s between the training and testing sets. Is the model overfit?"
   ]
  },
  {
   "cell_type": "code",
   "execution_count": null,
   "metadata": {},
   "outputs": [],
   "source": [
    "# your code here"
   ]
  },
  {
   "cell_type": "markdown",
   "metadata": {},
   "source": [
    "### Further Work\n",
    "\n",
    "That's the end of this notebook. We'll dive into this material in a lot more depth in future sessions. Here's a couple of other things you could try if you have some spare time:\n",
    "- The Linear Regression model didn't really overfit to the data above, try replacing it with a more advanced model from sklearn and repeat the last exercise (for example `RandomForestRegressor` from `sklearn.ensemble`)\n",
    "- House prices actually form a time series, which means it's not really valid to use future house prices to make predictions of those in the past. Try and repeat the last exercise above, but make sure your training set happens earlier in time than your test set."
   ]
  },
  {
   "cell_type": "code",
   "execution_count": null,
   "metadata": {},
   "outputs": [],
   "source": []
  }
 ],
 "metadata": {
  "kernelspec": {
   "display_name": "Python [conda env:Python3]",
   "language": "python",
   "name": "conda-env-Python3-py"
  },
  "language_info": {
   "codemirror_mode": {
    "name": "ipython",
    "version": 3
   },
   "file_extension": ".py",
   "mimetype": "text/x-python",
   "name": "python",
   "nbconvert_exporter": "python",
   "pygments_lexer": "ipython3",
   "version": "3.6.10"
  }
 },
 "nbformat": 4,
 "nbformat_minor": 2
}
